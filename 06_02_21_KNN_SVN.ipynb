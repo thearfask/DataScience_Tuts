{
 "cells": [
  {
   "cell_type": "code",
   "execution_count": 1,
   "metadata": {},
   "outputs": [],
   "source": [
    "import pandas as pd \n",
    "import numpy as np\n",
    "from sklearn.model_selection import train_test_split\n",
    "from sklearn.preprocessing import LabelEncoder\n",
    "from sklearn.tree import DecisionTreeClassifier\n",
    "from sklearn.metrics import confusion_matrix, accuracy_score\n",
    "import matplotlib.pyplot as plt\n",
    "from IPython.display import Image\n",
    "from six import StringIO\n",
    "pd.set_option(\"display.max_columns\", None)\n",
    "pd.set_option(\"display.max_rows\", None)\n",
    "\n",
    "from sklearn.tree import export_graphviz\n",
    "import pydotplus\n",
    "import pydot\n",
    "\n",
    "from sklearn.model_selection import GridSearchCV, cross_val_score\n",
    "from sklearn.linear_model import LogisticRegression\n",
    "\n",
    "from sklearn.ensemble import RandomForestClassifier, AdaBoostClassifier, VotingClassifier\n",
    "from sklearn.neighbors import KNeighborsClassifier\n"
   ]
  },
  {
   "cell_type": "code",
   "execution_count": null,
   "metadata": {},
   "outputs": [],
   "source": []
  },
  {
   "cell_type": "code",
   "execution_count": 2,
   "metadata": {},
   "outputs": [],
   "source": [
    "cr = pd.read_csv(\"Datasets/CreditRisk.csv\")"
   ]
  },
  {
   "cell_type": "code",
   "execution_count": 3,
   "metadata": {},
   "outputs": [],
   "source": [
    "cr.Gender = cr.Gender.fillna(\"Male\")\n",
    "cr.Married = cr.Married.fillna(\"Yes\")\n",
    "cr.Dependents.fillna(0, inplace = True)\n",
    "cr.Self_Employed.fillna(\"Yes\", inplace = True)\n",
    "cr.Loan_Amount_Term.fillna(cr.Loan_Amount_Term.mean(), inplace= True)\n",
    "cr.LoanAmount.fillna(cr.LoanAmount.mean(), inplace= True)\n",
    "cr.Credit_History.fillna(0, inplace=True)"
   ]
  },
  {
   "cell_type": "code",
   "execution_count": 4,
   "metadata": {},
   "outputs": [],
   "source": [
    "le = LabelEncoder()\n",
    "cr[cr.select_dtypes(include = ['object']).columns] = cr[cr.select_dtypes(include=['object']).columns].apply(le.fit_transform)"
   ]
  },
  {
   "cell_type": "code",
   "execution_count": 5,
   "metadata": {},
   "outputs": [],
   "source": [
    "cr = cr.iloc [:,1:13]"
   ]
  },
  {
   "cell_type": "code",
   "execution_count": 6,
   "metadata": {},
   "outputs": [],
   "source": [
    "cr_train,cr_test = train_test_split(cr, test_size =.2,random_state=111)"
   ]
  },
  {
   "cell_type": "code",
   "execution_count": 7,
   "metadata": {},
   "outputs": [],
   "source": [
    "cr_train_x=cr_train.iloc[:,0:-1]\n",
    "cr_train_y=cr_train.iloc[:,-1]\n",
    "\n",
    "cr_test_x=cr_test.iloc[:,0:-1]\n",
    "cr_test_y=cr_test.iloc[:,-1]"
   ]
  },
  {
   "cell_type": "code",
   "execution_count": 8,
   "metadata": {},
   "outputs": [],
   "source": [
    "knn = KNeighborsClassifier(n_neighbors=5)"
   ]
  },
  {
   "cell_type": "code",
   "execution_count": 9,
   "metadata": {},
   "outputs": [
    {
     "data": {
      "text/plain": [
       "KNeighborsClassifier()"
      ]
     },
     "execution_count": 9,
     "metadata": {},
     "output_type": "execute_result"
    }
   ],
   "source": [
    "knn.fit(cr_train_x, cr_train_y)"
   ]
  },
  {
   "cell_type": "code",
   "execution_count": 10,
   "metadata": {},
   "outputs": [],
   "source": [
    "pred_knn = knn.predict(cr_test_x)"
   ]
  },
  {
   "cell_type": "code",
   "execution_count": 11,
   "metadata": {},
   "outputs": [
    {
     "data": {
      "text/plain": [
       "array([[ 12,  24],\n",
       "       [ 42, 119]])"
      ]
     },
     "execution_count": 11,
     "metadata": {},
     "output_type": "execute_result"
    }
   ],
   "source": [
    "confusion_matrix_1 = confusion_matrix(pred_knn, cr_test_y)\n",
    "confusion_matrix_1"
   ]
  },
  {
   "cell_type": "code",
   "execution_count": 24,
   "metadata": {},
   "outputs": [],
   "source": [
    "prediction_1 = accuracy_score(pred_knn, cr_test_y)"
   ]
  },
  {
   "cell_type": "code",
   "execution_count": 35,
   "metadata": {},
   "outputs": [
    {
     "data": {
      "text/plain": [
       "0.6649746192893401"
      ]
     },
     "execution_count": 35,
     "metadata": {},
     "output_type": "execute_result"
    }
   ],
   "source": [
    "prediction_1"
   ]
  },
  {
   "cell_type": "code",
   "execution_count": 28,
   "metadata": {},
   "outputs": [],
   "source": [
    "acc_list = {}\n",
    "conf_list = {}"
   ]
  },
  {
   "cell_type": "code",
   "execution_count": 29,
   "metadata": {},
   "outputs": [],
   "source": [
    "for i in range(1, 51):\n",
    "    knn_1 = KNeighborsClassifier(n_neighbors=i)\n",
    "    knn_1.fit(cr_train_x, cr_train_y)\n",
    "    pred_knn_1 = knn_1.predict(cr_test_x)\n",
    "    conf = confusion_matrix(pred_knn_1, cr_test_y)\n",
    "    acc = accuracy_score(pred_knn_1, cr_test_y)\n",
    "    acc_list[i]= acc\n",
    "    conf_list[i] = conf"
   ]
  },
  {
   "cell_type": "code",
   "execution_count": 30,
   "metadata": {
    "collapsed": true
   },
   "outputs": [
    {
     "data": {
      "text/plain": [
       "{1: 0.6142131979695431,\n",
       " 2: 0.5279187817258884,\n",
       " 3: 0.6802030456852792,\n",
       " 4: 0.6345177664974619,\n",
       " 5: 0.6649746192893401,\n",
       " 6: 0.6294416243654822,\n",
       " 7: 0.7258883248730964,\n",
       " 8: 0.6954314720812182,\n",
       " 9: 0.7106598984771574,\n",
       " 10: 0.7106598984771574,\n",
       " 11: 0.700507614213198,\n",
       " 12: 0.700507614213198,\n",
       " 13: 0.6903553299492385,\n",
       " 14: 0.6852791878172588,\n",
       " 15: 0.7055837563451777,\n",
       " 16: 0.700507614213198,\n",
       " 17: 0.7106598984771574,\n",
       " 18: 0.7055837563451777,\n",
       " 19: 0.7055837563451777,\n",
       " 20: 0.7055837563451777,\n",
       " 21: 0.7106598984771574,\n",
       " 22: 0.7106598984771574,\n",
       " 23: 0.7208121827411168,\n",
       " 24: 0.7208121827411168,\n",
       " 25: 0.7157360406091371,\n",
       " 26: 0.7208121827411168,\n",
       " 27: 0.7157360406091371,\n",
       " 28: 0.7157360406091371,\n",
       " 29: 0.7157360406091371,\n",
       " 30: 0.7157360406091371,\n",
       " 31: 0.7157360406091371,\n",
       " 32: 0.7157360406091371,\n",
       " 33: 0.7208121827411168,\n",
       " 34: 0.7208121827411168,\n",
       " 35: 0.7208121827411168,\n",
       " 36: 0.7208121827411168,\n",
       " 37: 0.7258883248730964,\n",
       " 38: 0.7208121827411168,\n",
       " 39: 0.7258883248730964,\n",
       " 40: 0.7258883248730964,\n",
       " 41: 0.7258883248730964,\n",
       " 42: 0.7208121827411168,\n",
       " 43: 0.7258883248730964,\n",
       " 44: 0.7258883248730964,\n",
       " 45: 0.7258883248730964,\n",
       " 46: 0.7258883248730964,\n",
       " 47: 0.7258883248730964,\n",
       " 48: 0.7258883248730964,\n",
       " 49: 0.7258883248730964,\n",
       " 50: 0.7258883248730964}"
      ]
     },
     "execution_count": 30,
     "metadata": {},
     "output_type": "execute_result"
    }
   ],
   "source": [
    "acc_list"
   ]
  },
  {
   "cell_type": "code",
   "execution_count": 31,
   "metadata": {
    "collapsed": true
   },
   "outputs": [
    {
     "data": {
      "text/plain": [
       "{1: array([[ 17,  39],\n",
       "        [ 37, 104]]), 2: array([[27, 66],\n",
       "        [27, 77]]), 3: array([[ 16,  25],\n",
       "        [ 38, 118]]), 4: array([[ 20,  38],\n",
       "        [ 34, 105]]), 5: array([[ 12,  24],\n",
       "        [ 42, 119]]), 6: array([[ 15,  34],\n",
       "        [ 39, 109]]), 7: array([[ 13,  13],\n",
       "        [ 41, 130]]), 8: array([[ 16,  22],\n",
       "        [ 38, 121]]), 9: array([[  7,  10],\n",
       "        [ 47, 133]]), 10: array([[  9,  12],\n",
       "        [ 45, 131]]), 11: array([[  2,   7],\n",
       "        [ 52, 136]]), 12: array([[  7,  12],\n",
       "        [ 47, 131]]), 13: array([[  2,   9],\n",
       "        [ 52, 134]]), 14: array([[  3,  11],\n",
       "        [ 51, 132]]), 15: array([[  3,   7],\n",
       "        [ 51, 136]]), 16: array([[  3,   8],\n",
       "        [ 51, 135]]), 17: array([[  3,   6],\n",
       "        [ 51, 137]]), 18: array([[  3,   7],\n",
       "        [ 51, 136]]), 19: array([[  2,   6],\n",
       "        [ 52, 137]]), 20: array([[  2,   6],\n",
       "        [ 52, 137]]), 21: array([[  2,   5],\n",
       "        [ 52, 138]]), 22: array([[  3,   6],\n",
       "        [ 51, 137]]), 23: array([[  2,   3],\n",
       "        [ 52, 140]]), 24: array([[  2,   3],\n",
       "        [ 52, 140]]), 25: array([[  0,   2],\n",
       "        [ 54, 141]]), 26: array([[  1,   2],\n",
       "        [ 53, 141]]), 27: array([[  0,   2],\n",
       "        [ 54, 141]]), 28: array([[  0,   2],\n",
       "        [ 54, 141]]), 29: array([[  0,   2],\n",
       "        [ 54, 141]]), 30: array([[  1,   3],\n",
       "        [ 53, 140]]), 31: array([[  0,   2],\n",
       "        [ 54, 141]]), 32: array([[  0,   2],\n",
       "        [ 54, 141]]), 33: array([[  0,   1],\n",
       "        [ 54, 142]]), 34: array([[  0,   1],\n",
       "        [ 54, 142]]), 35: array([[  0,   1],\n",
       "        [ 54, 142]]), 36: array([[  0,   1],\n",
       "        [ 54, 142]]), 37: array([[  0,   0],\n",
       "        [ 54, 143]]), 38: array([[  0,   1],\n",
       "        [ 54, 142]]), 39: array([[  0,   0],\n",
       "        [ 54, 143]]), 40: array([[  0,   0],\n",
       "        [ 54, 143]]), 41: array([[  0,   0],\n",
       "        [ 54, 143]]), 42: array([[  0,   1],\n",
       "        [ 54, 142]]), 43: array([[  0,   0],\n",
       "        [ 54, 143]]), 44: array([[  1,   1],\n",
       "        [ 53, 142]]), 45: array([[  1,   1],\n",
       "        [ 53, 142]]), 46: array([[  1,   1],\n",
       "        [ 53, 142]]), 47: array([[  1,   1],\n",
       "        [ 53, 142]]), 48: array([[  1,   1],\n",
       "        [ 53, 142]]), 49: array([[  1,   1],\n",
       "        [ 53, 142]]), 50: array([[  1,   1],\n",
       "        [ 53, 142]])}"
      ]
     },
     "execution_count": 31,
     "metadata": {},
     "output_type": "execute_result"
    }
   ],
   "source": [
    "conf_list"
   ]
  },
  {
   "cell_type": "code",
   "execution_count": 38,
   "metadata": {},
   "outputs": [
    {
     "data": {
      "text/plain": [
       "[<matplotlib.lines.Line2D at 0x7fc13f02cb50>]"
      ]
     },
     "execution_count": 38,
     "metadata": {},
     "output_type": "execute_result"
    },
    {
     "data": {
      "image/png": "[encoded data removed]",
      "text/plain": [
       "<Figure size 432x288 with 1 Axes>"
      ]
     },
     "metadata": {
      "needs_background": "light"
     },
     "output_type": "display_data"
    }
   ],
   "source": [
    "plt.plot(list(range(1,51)),list(acc_list.values()))"
   ]
  },
  {
   "cell_type": "code",
   "execution_count": 37,
   "metadata": {
    "collapsed": true
   },
   "outputs": [
    {
     "data": {
      "text/plain": [
       "[0.6142131979695431,\n",
       " 0.5279187817258884,\n",
       " 0.6802030456852792,\n",
       " 0.6345177664974619,\n",
       " 0.6649746192893401,\n",
       " 0.6294416243654822,\n",
       " 0.7258883248730964,\n",
       " 0.6954314720812182,\n",
       " 0.7106598984771574,\n",
       " 0.7106598984771574,\n",
       " 0.700507614213198,\n",
       " 0.700507614213198,\n",
       " 0.6903553299492385,\n",
       " 0.6852791878172588,\n",
       " 0.7055837563451777,\n",
       " 0.700507614213198,\n",
       " 0.7106598984771574,\n",
       " 0.7055837563451777,\n",
       " 0.7055837563451777,\n",
       " 0.7055837563451777,\n",
       " 0.7106598984771574,\n",
       " 0.7106598984771574,\n",
       " 0.7208121827411168,\n",
       " 0.7208121827411168,\n",
       " 0.7157360406091371,\n",
       " 0.7208121827411168,\n",
       " 0.7157360406091371,\n",
       " 0.7157360406091371,\n",
       " 0.7157360406091371,\n",
       " 0.7157360406091371,\n",
       " 0.7157360406091371,\n",
       " 0.7157360406091371,\n",
       " 0.7208121827411168,\n",
       " 0.7208121827411168,\n",
       " 0.7208121827411168,\n",
       " 0.7208121827411168,\n",
       " 0.7258883248730964,\n",
       " 0.7208121827411168,\n",
       " 0.7258883248730964,\n",
       " 0.7258883248730964,\n",
       " 0.7258883248730964,\n",
       " 0.7208121827411168,\n",
       " 0.7258883248730964,\n",
       " 0.7258883248730964,\n",
       " 0.7258883248730964,\n",
       " 0.7258883248730964,\n",
       " 0.7258883248730964,\n",
       " 0.7258883248730964,\n",
       " 0.7258883248730964,\n",
       " 0.7258883248730964]"
      ]
     },
     "execution_count": 37,
     "metadata": {},
     "output_type": "execute_result"
    }
   ],
   "source": [
    "list(acc_list.values())"
   ]
  },
  {
   "cell_type": "code",
   "execution_count": null,
   "metadata": {},
   "outputs": [],
   "source": []
  },
  {
   "cell_type": "code",
   "execution_count": null,
   "metadata": {},
   "outputs": [],
   "source": []
  },
  {
   "cell_type": "code",
   "execution_count": null,
   "metadata": {},
   "outputs": [],
   "source": []
  },
  {
   "cell_type": "code",
   "execution_count": null,
   "metadata": {},
   "outputs": [],
   "source": []
  },
  {
   "cell_type": "code",
   "execution_count": null,
   "metadata": {},
   "outputs": [],
   "source": []
  },
  {
   "cell_type": "code",
   "execution_count": 39,
   "metadata": {},
   "outputs": [],
   "source": [
    "df_inc = pd.read_csv('Datasets/adultKNN.csv')"
   ]
  },
  {
   "cell_type": "code",
   "execution_count": 65,
   "metadata": {},
   "outputs": [
    {
     "data": {
      "text/html": [
       "<div>\n",
       "<style scoped>\n",
       "    .dataframe tbody tr th:only-of-type {\n",
       "        vertical-align: middle;\n",
       "    }\n",
       "\n",
       "    .dataframe tbody tr th {\n",
       "        vertical-align: top;\n",
       "    }\n",
       "\n",
       "    .dataframe thead th {\n",
       "        text-align: right;\n",
       "    }\n",
       "</style>\n",
       "<table border=\"1\" class=\"dataframe\">\n",
       "  <thead>\n",
       "    <tr style=\"text-align: right;\">\n",
       "      <th></th>\n",
       "      <th>age</th>\n",
       "      <th>workclass</th>\n",
       "      <th>fnlwgt</th>\n",
       "      <th>education</th>\n",
       "      <th>educational-num</th>\n",
       "      <th>marital-status</th>\n",
       "      <th>occupation</th>\n",
       "      <th>relationship</th>\n",
       "      <th>race</th>\n",
       "      <th>gender</th>\n",
       "      <th>capital-gain</th>\n",
       "      <th>capital-loss</th>\n",
       "      <th>hours-per-week</th>\n",
       "      <th>native-country</th>\n",
       "      <th>income</th>\n",
       "    </tr>\n",
       "  </thead>\n",
       "  <tbody>\n",
       "    <tr>\n",
       "      <th>0</th>\n",
       "      <td>25</td>\n",
       "      <td>Private</td>\n",
       "      <td>226802</td>\n",
       "      <td>11th</td>\n",
       "      <td>7</td>\n",
       "      <td>Never-married</td>\n",
       "      <td>Machine-op-inspct</td>\n",
       "      <td>Own-child</td>\n",
       "      <td>Black</td>\n",
       "      <td>Male</td>\n",
       "      <td>0</td>\n",
       "      <td>0</td>\n",
       "      <td>40</td>\n",
       "      <td>United-States</td>\n",
       "      <td>&lt;=50K</td>\n",
       "    </tr>\n",
       "    <tr>\n",
       "      <th>1</th>\n",
       "      <td>38</td>\n",
       "      <td>Private</td>\n",
       "      <td>89814</td>\n",
       "      <td>HS-grad</td>\n",
       "      <td>9</td>\n",
       "      <td>Married-civ-spouse</td>\n",
       "      <td>Farming-fishing</td>\n",
       "      <td>Husband</td>\n",
       "      <td>White</td>\n",
       "      <td>Male</td>\n",
       "      <td>0</td>\n",
       "      <td>0</td>\n",
       "      <td>50</td>\n",
       "      <td>United-States</td>\n",
       "      <td>&lt;=50K</td>\n",
       "    </tr>\n",
       "    <tr>\n",
       "      <th>2</th>\n",
       "      <td>28</td>\n",
       "      <td>Local-gov</td>\n",
       "      <td>336951</td>\n",
       "      <td>Assoc-acdm</td>\n",
       "      <td>12</td>\n",
       "      <td>Married-civ-spouse</td>\n",
       "      <td>Protective-serv</td>\n",
       "      <td>Husband</td>\n",
       "      <td>White</td>\n",
       "      <td>Male</td>\n",
       "      <td>0</td>\n",
       "      <td>0</td>\n",
       "      <td>40</td>\n",
       "      <td>United-States</td>\n",
       "      <td>&gt;50K</td>\n",
       "    </tr>\n",
       "    <tr>\n",
       "      <th>3</th>\n",
       "      <td>44</td>\n",
       "      <td>Private</td>\n",
       "      <td>160323</td>\n",
       "      <td>Some-college</td>\n",
       "      <td>10</td>\n",
       "      <td>Married-civ-spouse</td>\n",
       "      <td>Machine-op-inspct</td>\n",
       "      <td>Husband</td>\n",
       "      <td>Black</td>\n",
       "      <td>Male</td>\n",
       "      <td>7688</td>\n",
       "      <td>0</td>\n",
       "      <td>40</td>\n",
       "      <td>United-States</td>\n",
       "      <td>&gt;50K</td>\n",
       "    </tr>\n",
       "    <tr>\n",
       "      <th>4</th>\n",
       "      <td>18</td>\n",
       "      <td>Private</td>\n",
       "      <td>103497</td>\n",
       "      <td>Some-college</td>\n",
       "      <td>10</td>\n",
       "      <td>Never-married</td>\n",
       "      <td>NaN</td>\n",
       "      <td>Own-child</td>\n",
       "      <td>White</td>\n",
       "      <td>Female</td>\n",
       "      <td>0</td>\n",
       "      <td>0</td>\n",
       "      <td>30</td>\n",
       "      <td>United-States</td>\n",
       "      <td>&lt;=50K</td>\n",
       "    </tr>\n",
       "  </tbody>\n",
       "</table>\n",
       "</div>"
      ],
      "text/plain": [
       "   age  workclass  fnlwgt     education  educational-num      marital-status  \\\n",
       "0   25    Private  226802          11th                7       Never-married   \n",
       "1   38    Private   89814       HS-grad                9  Married-civ-spouse   \n",
       "2   28  Local-gov  336951    Assoc-acdm               12  Married-civ-spouse   \n",
       "3   44    Private  160323  Some-college               10  Married-civ-spouse   \n",
       "4   18    Private  103497  Some-college               10       Never-married   \n",
       "\n",
       "          occupation relationship   race  gender  capital-gain  capital-loss  \\\n",
       "0  Machine-op-inspct    Own-child  Black    Male             0             0   \n",
       "1    Farming-fishing      Husband  White    Male             0             0   \n",
       "2    Protective-serv      Husband  White    Male             0             0   \n",
       "3  Machine-op-inspct      Husband  Black    Male          7688             0   \n",
       "4                NaN    Own-child  White  Female             0             0   \n",
       "\n",
       "   hours-per-week native-country income  \n",
       "0              40  United-States  <=50K  \n",
       "1              50  United-States  <=50K  \n",
       "2              40  United-States   >50K  \n",
       "3              40  United-States   >50K  \n",
       "4              30  United-States  <=50K  "
      ]
     },
     "execution_count": 65,
     "metadata": {},
     "output_type": "execute_result"
    }
   ],
   "source": [
    "df_inc.head()"
   ]
  },
  {
   "cell_type": "code",
   "execution_count": 73,
   "metadata": {
    "scrolled": true
   },
   "outputs": [
    {
     "data": {
      "text/plain": [
       "age                0\n",
       "workclass          0\n",
       "fnlwgt             0\n",
       "education          0\n",
       "educational-num    0\n",
       "marital-status     0\n",
       "occupation         0\n",
       "relationship       0\n",
       "race               0\n",
       "gender             0\n",
       "capital-gain       0\n",
       "capital-loss       0\n",
       "hours-per-week     0\n",
       "native-country     0\n",
       "income             0\n",
       "dtype: int64"
      ]
     },
     "execution_count": 73,
     "metadata": {},
     "output_type": "execute_result"
    }
   ],
   "source": [
    "df_inc.isnull().sum()"
   ]
  },
  {
   "cell_type": "code",
   "execution_count": 70,
   "metadata": {
    "collapsed": true
   },
   "outputs": [
    {
     "data": {
      "text/plain": [
       "Prof-specialty       6172\n",
       "Craft-repair         6112\n",
       "Exec-managerial      6086\n",
       "Adm-clerical         5611\n",
       "Sales                5504\n",
       "Other-service        4923\n",
       "Machine-op-inspct    3022\n",
       "Transport-moving     2355\n",
       "Handlers-cleaners    2072\n",
       "Farming-fishing      1490\n",
       "Tech-support         1446\n",
       "Protective-serv       983\n",
       "Priv-house-serv       242\n",
       "Armed-Forces           15\n",
       "Name: occupation, dtype: int64"
      ]
     },
     "execution_count": 70,
     "metadata": {},
     "output_type": "execute_result"
    }
   ],
   "source": [
    "df_inc['occupation'].value_counts()"
   ]
  },
  {
   "cell_type": "code",
   "execution_count": 44,
   "metadata": {},
   "outputs": [],
   "source": [
    "df_inc.replace('?',np.nan, regex=False, inplace=True)"
   ]
  },
  {
   "cell_type": "code",
   "execution_count": 57,
   "metadata": {},
   "outputs": [
    {
     "data": {
      "text/plain": [
       "0    Private\n",
       "dtype: object"
      ]
     },
     "execution_count": 57,
     "metadata": {},
     "output_type": "execute_result"
    }
   ],
   "source": [
    "df_inc.workclass.mode()"
   ]
  },
  {
   "cell_type": "code",
   "execution_count": 72,
   "metadata": {},
   "outputs": [],
   "source": [
    "df_inc['occupation'].fillna('Other-service', inplace=True)"
   ]
  },
  {
   "cell_type": "code",
   "execution_count": 123,
   "metadata": {},
   "outputs": [],
   "source": [
    "df_inc['Income_'] = df_inc['income'].apply(lambda x: 0 if '<=' in x else 1)"
   ]
  },
  {
   "cell_type": "code",
   "execution_count": 124,
   "metadata": {},
   "outputs": [],
   "source": [
    "df_inc_ = df_inc.drop(\"income\", axis='columns')"
   ]
  },
  {
   "cell_type": "code",
   "execution_count": 137,
   "metadata": {},
   "outputs": [
    {
     "data": {
      "text/html": [
       "<div>\n",
       "<style scoped>\n",
       "    .dataframe tbody tr th:only-of-type {\n",
       "        vertical-align: middle;\n",
       "    }\n",
       "\n",
       "    .dataframe tbody tr th {\n",
       "        vertical-align: top;\n",
       "    }\n",
       "\n",
       "    .dataframe thead th {\n",
       "        text-align: right;\n",
       "    }\n",
       "</style>\n",
       "<table border=\"1\" class=\"dataframe\">\n",
       "  <thead>\n",
       "    <tr style=\"text-align: right;\">\n",
       "      <th></th>\n",
       "      <th>age</th>\n",
       "      <th>workclass</th>\n",
       "      <th>fnlwgt</th>\n",
       "      <th>education</th>\n",
       "      <th>educational-num</th>\n",
       "      <th>marital-status</th>\n",
       "      <th>occupation</th>\n",
       "      <th>relationship</th>\n",
       "      <th>race</th>\n",
       "      <th>gender</th>\n",
       "      <th>capital-gain</th>\n",
       "      <th>capital-loss</th>\n",
       "      <th>hours-per-week</th>\n",
       "      <th>native-country</th>\n",
       "      <th>Income_</th>\n",
       "    </tr>\n",
       "  </thead>\n",
       "  <tbody>\n",
       "    <tr>\n",
       "      <th>0</th>\n",
       "      <td>25</td>\n",
       "      <td>3</td>\n",
       "      <td>226802</td>\n",
       "      <td>1</td>\n",
       "      <td>7</td>\n",
       "      <td>4</td>\n",
       "      <td>6</td>\n",
       "      <td>3</td>\n",
       "      <td>2</td>\n",
       "      <td>1</td>\n",
       "      <td>0</td>\n",
       "      <td>0</td>\n",
       "      <td>40</td>\n",
       "      <td>38</td>\n",
       "      <td>0</td>\n",
       "    </tr>\n",
       "    <tr>\n",
       "      <th>1</th>\n",
       "      <td>38</td>\n",
       "      <td>3</td>\n",
       "      <td>89814</td>\n",
       "      <td>11</td>\n",
       "      <td>9</td>\n",
       "      <td>2</td>\n",
       "      <td>4</td>\n",
       "      <td>0</td>\n",
       "      <td>4</td>\n",
       "      <td>1</td>\n",
       "      <td>0</td>\n",
       "      <td>0</td>\n",
       "      <td>50</td>\n",
       "      <td>38</td>\n",
       "      <td>0</td>\n",
       "    </tr>\n",
       "    <tr>\n",
       "      <th>2</th>\n",
       "      <td>28</td>\n",
       "      <td>1</td>\n",
       "      <td>336951</td>\n",
       "      <td>7</td>\n",
       "      <td>12</td>\n",
       "      <td>2</td>\n",
       "      <td>10</td>\n",
       "      <td>0</td>\n",
       "      <td>4</td>\n",
       "      <td>1</td>\n",
       "      <td>0</td>\n",
       "      <td>0</td>\n",
       "      <td>40</td>\n",
       "      <td>38</td>\n",
       "      <td>1</td>\n",
       "    </tr>\n",
       "    <tr>\n",
       "      <th>3</th>\n",
       "      <td>44</td>\n",
       "      <td>3</td>\n",
       "      <td>160323</td>\n",
       "      <td>15</td>\n",
       "      <td>10</td>\n",
       "      <td>2</td>\n",
       "      <td>6</td>\n",
       "      <td>0</td>\n",
       "      <td>2</td>\n",
       "      <td>1</td>\n",
       "      <td>7688</td>\n",
       "      <td>0</td>\n",
       "      <td>40</td>\n",
       "      <td>38</td>\n",
       "      <td>1</td>\n",
       "    </tr>\n",
       "    <tr>\n",
       "      <th>4</th>\n",
       "      <td>18</td>\n",
       "      <td>3</td>\n",
       "      <td>103497</td>\n",
       "      <td>15</td>\n",
       "      <td>10</td>\n",
       "      <td>4</td>\n",
       "      <td>7</td>\n",
       "      <td>3</td>\n",
       "      <td>4</td>\n",
       "      <td>0</td>\n",
       "      <td>0</td>\n",
       "      <td>0</td>\n",
       "      <td>30</td>\n",
       "      <td>38</td>\n",
       "      <td>0</td>\n",
       "    </tr>\n",
       "  </tbody>\n",
       "</table>\n",
       "</div>"
      ],
      "text/plain": [
       "   age  workclass  fnlwgt  education  educational-num  marital-status  \\\n",
       "0   25          3  226802          1                7               4   \n",
       "1   38          3   89814         11                9               2   \n",
       "2   28          1  336951          7               12               2   \n",
       "3   44          3  160323         15               10               2   \n",
       "4   18          3  103497         15               10               4   \n",
       "\n",
       "   occupation  relationship  race  gender  capital-gain  capital-loss  \\\n",
       "0           6             3     2       1             0             0   \n",
       "1           4             0     4       1             0             0   \n",
       "2          10             0     4       1             0             0   \n",
       "3           6             0     2       1          7688             0   \n",
       "4           7             3     4       0             0             0   \n",
       "\n",
       "   hours-per-week  native-country  Income_  \n",
       "0              40              38        0  \n",
       "1              50              38        0  \n",
       "2              40              38        1  \n",
       "3              40              38        1  \n",
       "4              30              38        0  "
      ]
     },
     "execution_count": 137,
     "metadata": {},
     "output_type": "execute_result"
    }
   ],
   "source": [
    "df_inc_.head()"
   ]
  },
  {
   "cell_type": "code",
   "execution_count": 126,
   "metadata": {},
   "outputs": [],
   "source": [
    "le = LabelEncoder()\n",
    "df_inc_[df_inc_.select_dtypes(include = ['object']).columns] = df_inc_[df_inc_.select_dtypes(include=['object']).columns].apply(le.fit_transform)"
   ]
  },
  {
   "cell_type": "code",
   "execution_count": 127,
   "metadata": {},
   "outputs": [],
   "source": [
    "inc_train, inc_test = train_test_split(df_inc_, test_size=0.2, random_state=111)"
   ]
  },
  {
   "cell_type": "code",
   "execution_count": 128,
   "metadata": {},
   "outputs": [],
   "source": [
    "x_train = inc_train.drop('Income_', axis='columns')\n",
    "y_train = inc_train['Income_']\n",
    "\n",
    "x_test = inc_test.drop('Income_', axis='columns')\n",
    "y_test = inc_test['Income_']"
   ]
  },
  {
   "cell_type": "code",
   "execution_count": null,
   "metadata": {},
   "outputs": [],
   "source": []
  },
  {
   "cell_type": "code",
   "execution_count": 156,
   "metadata": {},
   "outputs": [
    {
     "data": {
      "text/plain": [
       "0.7934281912171154"
      ]
     },
     "execution_count": 156,
     "metadata": {},
     "output_type": "execute_result"
    }
   ],
   "source": [
    "knn_inc_test = KNeighborsClassifier(n_neighbors=29)\n",
    "knn_inc_test.fit(x_train, y_train)\n",
    "pred_knn_inc_test = knn_inc_test.predict(x_test)\n",
    "accuracy_score(pred_knn_inc_test, y_test)"
   ]
  },
  {
   "cell_type": "code",
   "execution_count": 157,
   "metadata": {},
   "outputs": [
    {
     "data": {
      "text/plain": [
       "array([[7280, 1942],\n",
       "       [  76,  471]])"
      ]
     },
     "execution_count": 157,
     "metadata": {},
     "output_type": "execute_result"
    }
   ],
   "source": [
    "confusion_matrix(pred_knn_inc_test, y_test)"
   ]
  },
  {
   "cell_type": "code",
   "execution_count": null,
   "metadata": {},
   "outputs": [],
   "source": []
  },
  {
   "cell_type": "code",
   "execution_count": null,
   "metadata": {},
   "outputs": [],
   "source": []
  },
  {
   "cell_type": "code",
   "execution_count": 130,
   "metadata": {},
   "outputs": [],
   "source": [
    "acc_inc_dict = {}\n",
    "conf_matrix_dict = {}"
   ]
  },
  {
   "cell_type": "code",
   "execution_count": 131,
   "metadata": {},
   "outputs": [],
   "source": [
    "for i in range(1, 51):\n",
    "    knn_inc = KNeighborsClassifier(n_neighbors=i)\n",
    "    knn_inc.fit(x_train, y_train)\n",
    "    pred_knn_inc = knn_inc.predict(x_test)\n",
    "    conf = confusion_matrix(pred_knn_inc, y_test)\n",
    "    acc = accuracy_score(pred_knn_inc, y_test)\n",
    "    acc_inc_dict[i]=acc\n",
    "    conf_matrix_dict[i] = conf\n"
   ]
  },
  {
   "cell_type": "code",
   "execution_count": 136,
   "metadata": {
    "collapsed": true
   },
   "outputs": [
    {
     "data": {
      "text/plain": [
       "{1: array([[5999, 1294],\n",
       "        [1357, 1119]]), 2: array([[6955, 1775],\n",
       "        [ 401,  638]]), 3: array([[6420, 1528],\n",
       "        [ 936,  885]]), 4: array([[6998, 1784],\n",
       "        [ 358,  629]]), 5: array([[6733, 1636],\n",
       "        [ 623,  777]]), 6: array([[7039, 1818],\n",
       "        [ 317,  595]]), 7: array([[6899, 1742],\n",
       "        [ 457,  671]]), 8: array([[7137, 1865],\n",
       "        [ 219,  548]]), 9: array([[7025, 1796],\n",
       "        [ 331,  617]]), 10: array([[7170, 1883],\n",
       "        [ 186,  530]]), 11: array([[7075, 1826],\n",
       "        [ 281,  587]]), 12: array([[7218, 1894],\n",
       "        [ 138,  519]]), 13: array([[7162, 1849],\n",
       "        [ 194,  564]]), 14: array([[7229, 1909],\n",
       "        [ 127,  504]]), 15: array([[7190, 1877],\n",
       "        [ 166,  536]]), 16: array([[7250, 1926],\n",
       "        [ 106,  487]]), 17: array([[7217, 1900],\n",
       "        [ 139,  513]]), 18: array([[7250, 1938],\n",
       "        [ 106,  475]]), 19: array([[7226, 1903],\n",
       "        [ 130,  510]]), 20: array([[7265, 1940],\n",
       "        [  91,  473]]), 21: array([[7239, 1919],\n",
       "        [ 117,  494]]), 22: array([[7270, 1956],\n",
       "        [  86,  457]]), 23: array([[7254, 1934],\n",
       "        [ 102,  479]]), 24: array([[7282, 1960],\n",
       "        [  74,  453]]), 25: array([[7264, 1935],\n",
       "        [  92,  478]]), 26: array([[7285, 1963],\n",
       "        [  71,  450]]), 27: array([[7269, 1946],\n",
       "        [  87,  467]]), 28: array([[7290, 1973],\n",
       "        [  66,  440]]), 29: array([[7280, 1942],\n",
       "        [  76,  471]]), 30: array([[7291, 1969],\n",
       "        [  65,  444]]), 31: array([[7281, 1953],\n",
       "        [  75,  460]]), 32: array([[7292, 1974],\n",
       "        [  64,  439]]), 33: array([[7280, 1956],\n",
       "        [  76,  457]]), 34: array([[7295, 1979],\n",
       "        [  61,  434]]), 35: array([[7287, 1967],\n",
       "        [  69,  446]]), 36: array([[7297, 1986],\n",
       "        [  59,  427]]), 37: array([[7291, 1980],\n",
       "        [  65,  433]]), 38: array([[7302, 2000],\n",
       "        [  54,  413]]), 39: array([[7297, 1982],\n",
       "        [  59,  431]]), 40: array([[7309, 2001],\n",
       "        [  47,  412]]), 41: array([[7300, 1991],\n",
       "        [  56,  422]]), 42: array([[7306, 2013],\n",
       "        [  50,  400]]), 43: array([[7298, 1997],\n",
       "        [  58,  416]]), 44: array([[7308, 2017],\n",
       "        [  48,  396]]), 45: array([[7300, 2004],\n",
       "        [  56,  409]]), 46: array([[7307, 2026],\n",
       "        [  49,  387]]), 47: array([[7306, 2013],\n",
       "        [  50,  400]]), 48: array([[7310, 2026],\n",
       "        [  46,  387]]), 49: array([[7305, 2020],\n",
       "        [  51,  393]]), 50: array([[7310, 2030],\n",
       "        [  46,  383]])}"
      ]
     },
     "execution_count": 136,
     "metadata": {},
     "output_type": "execute_result"
    }
   ],
   "source": [
    "conf_matrix_dict"
   ]
  },
  {
   "cell_type": "code",
   "execution_count": 146,
   "metadata": {},
   "outputs": [
    {
     "data": {
      "text/plain": [
       "0.7934281912171154"
      ]
     },
     "execution_count": 146,
     "metadata": {},
     "output_type": "execute_result"
    }
   ],
   "source": [
    "acc_list = list(acc_inc_dict.values())\n",
    "max(acc_inc_dict.values())"
   ]
  },
  {
   "cell_type": "code",
   "execution_count": 148,
   "metadata": {},
   "outputs": [
    {
     "data": {
      "text/plain": [
       "29"
      ]
     },
     "execution_count": 148,
     "metadata": {},
     "output_type": "execute_result"
    }
   ],
   "source": [
    "max(acc_inc_dict, key=acc_inc_dict.get)"
   ]
  },
  {
   "cell_type": "code",
   "execution_count": 151,
   "metadata": {},
   "outputs": [
    {
     "data": {
      "image/png": "[encoded data removed]",
      "text/plain": [
       "<Figure size 432x288 with 1 Axes>"
      ]
     },
     "metadata": {
      "needs_background": "light"
     },
     "output_type": "display_data"
    }
   ],
   "source": [
    "plt.plot(list(range(1,51)),acc_list);"
   ]
  },
  {
   "cell_type": "code",
   "execution_count": null,
   "metadata": {},
   "outputs": [],
   "source": []
  },
  {
   "cell_type": "code",
   "execution_count": 140,
   "metadata": {},
   "outputs": [],
   "source": [
    "rfc_inc = RandomForestClassifier(n_estimators=150)"
   ]
  },
  {
   "cell_type": "code",
   "execution_count": 141,
   "metadata": {},
   "outputs": [],
   "source": [
    "model = rfc_inc.fit(x_train, y_train)"
   ]
  },
  {
   "cell_type": "code",
   "execution_count": 142,
   "metadata": {},
   "outputs": [
    {
     "data": {
      "text/plain": [
       "0.8557682464940116"
      ]
     },
     "execution_count": 142,
     "metadata": {},
     "output_type": "execute_result"
    }
   ],
   "source": [
    "model.score(x_test, y_test)"
   ]
  },
  {
   "cell_type": "code",
   "execution_count": 143,
   "metadata": {},
   "outputs": [
    {
     "data": {
      "text/plain": [
       "array([[6871,  924],\n",
       "       [ 485, 1489]])"
      ]
     },
     "execution_count": 143,
     "metadata": {},
     "output_type": "execute_result"
    }
   ],
   "source": [
    "confusion_matrix(model.predict(x_test),y_test)"
   ]
  },
  {
   "cell_type": "code",
   "execution_count": 158,
   "metadata": {},
   "outputs": [
    {
     "data": {
      "text/plain": [
       "0.8557682464940116"
      ]
     },
     "execution_count": 158,
     "metadata": {},
     "output_type": "execute_result"
    }
   ],
   "source": [
    "accuracy_score(model.predict(x_test),y_test)"
   ]
  },
  {
   "cell_type": "code",
   "execution_count": 159,
   "metadata": {},
   "outputs": [
    {
     "data": {
      "text/plain": [
       "array([0.15097196, 0.03623186, 0.17758772, 0.03163329, 0.0909073 ,\n",
       "       0.06832119, 0.06524629, 0.10590333, 0.01361628, 0.01184171,\n",
       "       0.11453743, 0.03473446, 0.08368155, 0.01478565])"
      ]
     },
     "execution_count": 159,
     "metadata": {},
     "output_type": "execute_result"
    }
   ],
   "source": [
    "model.feature_importances_"
   ]
  },
  {
   "cell_type": "code",
   "execution_count": 162,
   "metadata": {
    "collapsed": true
   },
   "outputs": [
    {
     "data": {
      "text/html": [
       "<div>\n",
       "<style scoped>\n",
       "    .dataframe tbody tr th:only-of-type {\n",
       "        vertical-align: middle;\n",
       "    }\n",
       "\n",
       "    .dataframe tbody tr th {\n",
       "        vertical-align: top;\n",
       "    }\n",
       "\n",
       "    .dataframe thead th {\n",
       "        text-align: right;\n",
       "    }\n",
       "</style>\n",
       "<table border=\"1\" class=\"dataframe\">\n",
       "  <thead>\n",
       "    <tr style=\"text-align: right;\">\n",
       "      <th></th>\n",
       "      <th>Columns</th>\n",
       "      <th>Feature_Importance</th>\n",
       "    </tr>\n",
       "  </thead>\n",
       "  <tbody>\n",
       "    <tr>\n",
       "      <th>2</th>\n",
       "      <td>fnlwgt</td>\n",
       "      <td>0.177588</td>\n",
       "    </tr>\n",
       "    <tr>\n",
       "      <th>0</th>\n",
       "      <td>age</td>\n",
       "      <td>0.150972</td>\n",
       "    </tr>\n",
       "    <tr>\n",
       "      <th>10</th>\n",
       "      <td>capital-gain</td>\n",
       "      <td>0.114537</td>\n",
       "    </tr>\n",
       "    <tr>\n",
       "      <th>7</th>\n",
       "      <td>relationship</td>\n",
       "      <td>0.105903</td>\n",
       "    </tr>\n",
       "    <tr>\n",
       "      <th>4</th>\n",
       "      <td>educational-num</td>\n",
       "      <td>0.090907</td>\n",
       "    </tr>\n",
       "    <tr>\n",
       "      <th>12</th>\n",
       "      <td>hours-per-week</td>\n",
       "      <td>0.083682</td>\n",
       "    </tr>\n",
       "    <tr>\n",
       "      <th>5</th>\n",
       "      <td>marital-status</td>\n",
       "      <td>0.068321</td>\n",
       "    </tr>\n",
       "    <tr>\n",
       "      <th>6</th>\n",
       "      <td>occupation</td>\n",
       "      <td>0.065246</td>\n",
       "    </tr>\n",
       "    <tr>\n",
       "      <th>1</th>\n",
       "      <td>workclass</td>\n",
       "      <td>0.036232</td>\n",
       "    </tr>\n",
       "    <tr>\n",
       "      <th>11</th>\n",
       "      <td>capital-loss</td>\n",
       "      <td>0.034734</td>\n",
       "    </tr>\n",
       "    <tr>\n",
       "      <th>3</th>\n",
       "      <td>education</td>\n",
       "      <td>0.031633</td>\n",
       "    </tr>\n",
       "    <tr>\n",
       "      <th>13</th>\n",
       "      <td>native-country</td>\n",
       "      <td>0.014786</td>\n",
       "    </tr>\n",
       "    <tr>\n",
       "      <th>8</th>\n",
       "      <td>race</td>\n",
       "      <td>0.013616</td>\n",
       "    </tr>\n",
       "    <tr>\n",
       "      <th>9</th>\n",
       "      <td>gender</td>\n",
       "      <td>0.011842</td>\n",
       "    </tr>\n",
       "  </tbody>\n",
       "</table>\n",
       "</div>"
      ],
      "text/plain": [
       "            Columns  Feature_Importance\n",
       "2            fnlwgt            0.177588\n",
       "0               age            0.150972\n",
       "10     capital-gain            0.114537\n",
       "7      relationship            0.105903\n",
       "4   educational-num            0.090907\n",
       "12   hours-per-week            0.083682\n",
       "5    marital-status            0.068321\n",
       "6        occupation            0.065246\n",
       "1         workclass            0.036232\n",
       "11     capital-loss            0.034734\n",
       "3         education            0.031633\n",
       "13   native-country            0.014786\n",
       "8              race            0.013616\n",
       "9            gender            0.011842"
      ]
     },
     "execution_count": 162,
     "metadata": {},
     "output_type": "execute_result"
    }
   ],
   "source": [
    "pd.DataFrame({\"Columns\":x_train.columns, \"Feature_Importance\":model.feature_importances_}).sort_values(by='Feature_Importance', ascending=False)\n"
   ]
  },
  {
   "cell_type": "code",
   "execution_count": null,
   "metadata": {},
   "outputs": [],
   "source": [
    "\n"
   ]
  },
  {
   "cell_type": "code",
   "execution_count": null,
   "metadata": {},
   "outputs": [],
   "source": []
  },
  {
   "cell_type": "code",
   "execution_count": null,
   "metadata": {},
   "outputs": [],
   "source": []
  },
  {
   "cell_type": "code",
   "execution_count": null,
   "metadata": {},
   "outputs": [],
   "source": []
  },
  {
   "cell_type": "code",
   "execution_count": 163,
   "metadata": {},
   "outputs": [],
   "source": [
    "dt = DecisionTreeClassifier()"
   ]
  },
  {
   "cell_type": "code",
   "execution_count": 165,
   "metadata": {},
   "outputs": [],
   "source": [
    "ada = AdaBoostClassifier(dt, n_estimators=20)"
   ]
  },
  {
   "cell_type": "code",
   "execution_count": 166,
   "metadata": {},
   "outputs": [
    {
     "data": {
      "text/plain": [
       "AdaBoostClassifier(base_estimator=DecisionTreeClassifier(), n_estimators=20)"
      ]
     },
     "execution_count": 166,
     "metadata": {},
     "output_type": "execute_result"
    }
   ],
   "source": [
    "ada.fit(x_train, y_train)"
   ]
  },
  {
   "cell_type": "code",
   "execution_count": 167,
   "metadata": {},
   "outputs": [],
   "source": [
    "pred_ada = ada.predict(x_test)"
   ]
  },
  {
   "cell_type": "code",
   "execution_count": 168,
   "metadata": {},
   "outputs": [
    {
     "data": {
      "text/plain": [
       "array([[6658, 1111],\n",
       "       [ 698, 1302]])"
      ]
     },
     "execution_count": 168,
     "metadata": {},
     "output_type": "execute_result"
    }
   ],
   "source": [
    "confusion_matrix(pred_ada, y_test)"
   ]
  },
  {
   "cell_type": "code",
   "execution_count": 169,
   "metadata": {},
   "outputs": [
    {
     "data": {
      "text/plain": [
       "0.8148223973794656"
      ]
     },
     "execution_count": 169,
     "metadata": {},
     "output_type": "execute_result"
    }
   ],
   "source": [
    "accuracy_score(pred_ada, y_test)"
   ]
  },
  {
   "cell_type": "code",
   "execution_count": null,
   "metadata": {},
   "outputs": [],
   "source": []
  },
  {
   "cell_type": "code",
   "execution_count": null,
   "metadata": {},
   "outputs": [],
   "source": []
  },
  {
   "cell_type": "code",
   "execution_count": 173,
   "metadata": {},
   "outputs": [],
   "source": [
    "ada_rf = AdaBoostClassifier(rfc_inc, n_estimators=20)"
   ]
  },
  {
   "cell_type": "code",
   "execution_count": 174,
   "metadata": {},
   "outputs": [
    {
     "data": {
      "text/plain": [
       "AdaBoostClassifier(base_estimator=RandomForestClassifier(n_estimators=150),\n",
       "                   n_estimators=20)"
      ]
     },
     "execution_count": 174,
     "metadata": {},
     "output_type": "execute_result"
    }
   ],
   "source": [
    "ada_rf.fit(x_train, y_train)"
   ]
  },
  {
   "cell_type": "code",
   "execution_count": 175,
   "metadata": {},
   "outputs": [],
   "source": [
    "pred_ada_rf = ada_rf.predict(x_test)"
   ]
  },
  {
   "cell_type": "code",
   "execution_count": 177,
   "metadata": {},
   "outputs": [
    {
     "data": {
      "text/plain": [
       "array([[6849,  952],\n",
       "       [ 507, 1461]])"
      ]
     },
     "execution_count": 177,
     "metadata": {},
     "output_type": "execute_result"
    }
   ],
   "source": [
    "confusion_matrix(pred_ada_rf, y_test)"
   ]
  },
  {
   "cell_type": "code",
   "execution_count": null,
   "metadata": {},
   "outputs": [],
   "source": []
  },
  {
   "cell_type": "code",
   "execution_count": null,
   "metadata": {},
   "outputs": [],
   "source": []
  },
  {
   "cell_type": "code",
   "execution_count": null,
   "metadata": {},
   "outputs": [],
   "source": []
  },
  {
   "cell_type": "code",
   "execution_count": 1,
   "metadata": {},
   "outputs": [],
   "source": [
    "from datetime import datetime\n",
    "\n",
    "now = datetime.now()"
   ]
  },
  {
   "cell_type": "code",
   "execution_count": 3,
   "metadata": {},
   "outputs": [
    {
     "data": {
      "text/plain": [
       "datetime.time(14, 45, 39, 495768)"
      ]
     },
     "execution_count": 3,
     "metadata": {},
     "output_type": "execute_result"
    }
   ],
   "source": [
    "now.time()"
   ]
  },
  {
   "cell_type": "code",
   "execution_count": null,
   "metadata": {},
   "outputs": [],
   "source": []
  }
 ],
 "metadata": {
  "kernelspec": {
   "display_name": "Python 3",
   "language": "python",
   "name": "python3"
  },
  "language_info": {
   "codemirror_mode": {
    "name": "ipython",
    "version": 3
   },
   "file_extension": ".py",
   "mimetype": "text/x-python",
   "name": "python",
   "nbconvert_exporter": "python",
   "pygments_lexer": "ipython3",
   "version": "3.7.9"
  }
 },
 "nbformat": 4,
 "nbformat_minor": 4
}
